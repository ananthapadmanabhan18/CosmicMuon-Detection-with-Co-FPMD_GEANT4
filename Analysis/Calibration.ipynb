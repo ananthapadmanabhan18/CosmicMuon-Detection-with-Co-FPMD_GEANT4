{
 "cells": [
  {
   "cell_type": "markdown",
   "metadata": {},
   "source": [
    "# **Calibration of the Energy Deposit vs Incident Energy**"
   ]
  },
  {
   "cell_type": "code",
   "execution_count": 29,
   "metadata": {},
   "outputs": [],
   "source": [
    "import ROOT\n",
    "import numpy as np\n",
    "import matplotlib.pyplot as plt"
   ]
  },
  {
   "cell_type": "markdown",
   "metadata": {},
   "source": [
    "## Reading the files and the scoring tree"
   ]
  },
  {
   "cell_type": "code",
   "execution_count": 30,
   "metadata": {},
   "outputs": [],
   "source": [
    "energy_list = [0.1,0.2,0.3,0.4,0.5,0.6,0.7,0.8,0.9,1,2,5,10,20,40,50,60,70,80,100,200,300,400,500,600,700,800,900,1000]\n",
    "\n",
    "\n",
    "file_list=[]\n",
    "for i in energy_list:\n",
    "    file_list.append(ROOT.TFile(f\"..//Outputs//Calibration//{i}GeV.root\",\"READ\"))  \n",
    "    \n",
    "    \n",
    "tree_list=[]\n",
    "\n",
    "for i in range(len(energy_list)):\n",
    "    tree_list.append(file_list[i].Get(\"Scoring\"))\n",
    "    "
   ]
  },
  {
   "cell_type": "markdown",
   "metadata": {},
   "source": [
    "## Creating the histograms and fitting the data with landau"
   ]
  },
  {
   "cell_type": "code",
   "execution_count": 31,
   "metadata": {},
   "outputs": [
    {
     "name": "stdout",
     "output_type": "stream",
     "text": [
      "[0.1, 0.2, 0.3, 0.4, 0.5, 0.6, 0.7, 0.8, 0.9, 1, 2, 5, 10, 20, 40, 50, 60, 70, 80, 100, 200, 300, 400, 500, 600, 700, 800, 900, 1000]\n",
      "[9.759905897503428, 8.156075760799583, 7.757748208312416, 7.5986109805453825, 7.5158237789590805, 7.468615376336506, 7.44704203462174, 7.422549901900409, 7.437397222045797, 7.436710487890685, 7.426202921189991, 7.475508500857064, 7.4852554811672185, 7.516201156082883, 7.4980894329604535, 7.5088805324804415, 7.510174436319949, 7.528583515283616, 7.505794743954261, 7.52509899941012, 7.525352503045211, 7.534481823017324, 7.535487288772129, 7.538222219224765, 7.5212910140686065, 7.5400206441692, 7.529321301440428, 7.535802331386026, 7.53316988663199]\n"
     ]
    }
   ],
   "source": [
    "hist_list=[]\n",
    "mpv_list=[]\n",
    "mpv_error_list=[]\n",
    "\n",
    "\n",
    "for i in range(len(energy_list)):\n",
    "    curr_hist = ROOT.TH1F(f\"EnergyDeposit_{energy_list[i]}GeV\",f\"Incident Energy = {energy_list[i]}GeV\",400,0,30)\n",
    "    \n",
    "    for events in tree_list[i]:\n",
    "        float; edep = events.fEdep\n",
    "        curr_hist.Fill(edep)   \n",
    "    curr_hist.Fit(\"landau\",\"Q0\")\n",
    "    mpv = curr_hist.GetFunction(\"landau\").GetParameter(1)\n",
    "    mpv_list.append(mpv)\n",
    "    mpv_error = curr_hist.GetFunction(\"landau\").GetParError(1)\n",
    "    mpv_error_list.append(mpv_error)\n",
    "    hist_list.append(curr_hist)\n",
    "    \n",
    "    \n",
    "print(energy_list)\n",
    "\n",
    "print(mpv_list)    "
   ]
  },
  {
   "cell_type": "markdown",
   "metadata": {},
   "source": [
    "## Plotting the calibration curve"
   ]
  },
  {
   "cell_type": "code",
   "execution_count": 32,
   "metadata": {},
   "outputs": [
    {
     "data": {
      "image/png": "[encoded data removed]",
      "text/plain": [
       "<IPython.core.display.Image object>"
      ]
     },
     "metadata": {},
     "output_type": "display_data"
    }
   ],
   "source": [
    "canvas = True\n",
    "canvas = ROOT.TCanvas(\"canvas\", \"canvas\", 900, 600)\n",
    "\n",
    "graph = ROOT.TGraphErrors(len(energy_list), np.array(energy_list), np.array(mpv_list), np.zeros(len(energy_list)), np.array(mpv_error_list))\n",
    "graph.SetMarkerStyle(20)\n",
    "graph.SetMarkerSize(1)\n",
    "graph.SetMarkerColor(1) \n",
    "graph.SetLineColor(1)    \n",
    "graph.Draw(\"APL\")\n",
    "\n",
    "\n",
    "error_graph = ROOT.TGraphAsymmErrors(len(energy_list), np.array(energy_list), np.array(mpv_list), np.zeros(len(energy_list)), np.zeros(len(energy_list)), np.array(mpv_error_list), np.array(mpv_error_list))\n",
    "error_graph.SetLineColor(2)  # Error bar color red\n",
    "error_graph.SetFillColor(0)  # No fill color\n",
    "error_graph.SetMarkerColor(0)  # No marker color\n",
    "error_graph.Draw(\"P\")\n",
    "graph.SetTitle(\"MPV of Energy Deposited in Argon vs Incident Energy of Muon\")\n",
    "graph.GetXaxis().SetTitle(\"log ( Energy (GeV) )\")\n",
    "graph.GetYaxis().SetTitle(\"MPV (MeV)\")\n",
    "canvas.SetLogx()\n",
    "# canvas.SetGrid()\n",
    "canvas.Draw()\n",
    "\n",
    "\n",
    "\n",
    "'''\n",
    "Saving the file as a root file\n",
    "'''\n",
    "cal_res = ROOT.TFile(\"calibration_results.root\",\"RECREATE\")\n",
    "graph.Write()\n",
    "cal_res.Close()"
   ]
  }
 ],
 "metadata": {
  "kernelspec": {
   "display_name": "Python 3",
   "language": "python",
   "name": "python3"
  },
  "language_info": {
   "codemirror_mode": {
    "name": "ipython",
    "version": 3
   },
   "file_extension": ".py",
   "mimetype": "text/x-python",
   "name": "python",
   "nbconvert_exporter": "python",
   "pygments_lexer": "ipython3",
   "version": "3.10.12"
  }
 },
 "nbformat": 4,
 "nbformat_minor": 2
}
