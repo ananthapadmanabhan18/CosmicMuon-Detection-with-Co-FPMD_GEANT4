{
 "cells": [
  {
   "cell_type": "markdown",
   "metadata": {},
   "source": [
    "# **Calibration of the Energy Deposit vs Incident Energy**"
   ]
  },
  {
   "cell_type": "code",
   "execution_count": 217,
   "metadata": {},
   "outputs": [],
   "source": [
    "import ROOT\n",
    "import numpy as np\n",
    "import matplotlib.pyplot as plt"
   ]
  },
  {
   "cell_type": "markdown",
   "metadata": {},
   "source": [
    "## Reading the files and the scoring tree"
   ]
  },
  {
   "cell_type": "code",
   "execution_count": 218,
   "metadata": {},
   "outputs": [],
   "source": [
    "energy_list = [0.1,0.2,0.3,0.4,0.5,0.6,0.7,0.8,0.9,1,2,5,10,20,40,50,60,70,80,100]\n",
    "\n",
    "\n",
    "file_list=[]\n",
    "for i in energy_list:\n",
    "    file_list.append(ROOT.TFile(f\"..//Outputs//Calibration//{i}GeV.root\",\"READ\"))  \n",
    "    \n",
    "    \n",
    "tree_list=[]\n",
    "\n",
    "for i in range(len(energy_list)):\n",
    "    tree_list.append(file_list[i].Get(\"Scoring\"))\n",
    "    "
   ]
  },
  {
   "cell_type": "markdown",
   "metadata": {},
   "source": [
    "## Creating the histograms and fitting the data with landau"
   ]
  },
  {
   "cell_type": "code",
   "execution_count": 219,
   "metadata": {},
   "outputs": [],
   "source": [
    "hist_list=[]\n",
    "mpv_list=[]\n",
    "mpv_error_list=[]\n",
    "\n",
    "\n",
    "for i in range(len(energy_list)):\n",
    "    curr_hist = ROOT.TH1F(f\"EnergyDeposit_{energy_list[i]}GeV\",f\"Incident Energy = {energy_list[i]}GeV\",400,0,30)\n",
    "    \n",
    "    for events in tree_list[i]:\n",
    "        float; edep = events.fEdep\n",
    "        curr_hist.Fill(edep)   \n",
    "    curr_hist.Fit(\"landau\",\"Q0\")\n",
    "    mpv = curr_hist.GetFunction(\"landau\").GetParameter(1)\n",
    "    mpv_list.append(mpv)\n",
    "    mpv_error = curr_hist.GetFunction(\"landau\").GetParError(1)\n",
    "    mpv_error_list.append(mpv_error)\n",
    "    hist_list.append(curr_hist)"
   ]
  },
  {
   "cell_type": "markdown",
   "metadata": {},
   "source": [
    "## Plotting the calibration curve"
   ]
  },
  {
   "cell_type": "code",
   "execution_count": 220,
   "metadata": {},
   "outputs": [
    {
     "data": {
      "image/png": "[encoded data removed]",
      "text/plain": [
       "<IPython.core.display.Image object>"
      ]
     },
     "metadata": {},
     "output_type": "display_data"
    }
   ],
   "source": [
    "canvas = True\n",
    "canvas = ROOT.TCanvas(\"canvas\", \"canvas\", 900, 600)\n",
    "\n",
    "graph = ROOT.TGraphErrors(len(energy_list), np.array(energy_list), np.array(mpv_list), np.zeros(len(energy_list)), np.array(mpv_error_list))\n",
    "graph.SetMarkerStyle(20)\n",
    "graph.SetMarkerSize(1)\n",
    "graph.SetMarkerColor(1) \n",
    "graph.SetLineColor(1)    \n",
    "graph.Draw(\"AP\")\n",
    "\n",
    "\n",
    "error_graph = ROOT.TGraphAsymmErrors(len(energy_list), np.array(energy_list), np.array(mpv_list), np.zeros(len(energy_list)), np.zeros(len(energy_list)), np.array(mpv_error_list), np.array(mpv_error_list))\n",
    "error_graph.SetLineColor(2)  # Error bar color red\n",
    "error_graph.SetFillColor(0)  # No fill color\n",
    "error_graph.SetMarkerColor(0)  # No marker color\n",
    "error_graph.Draw(\"P\")\n",
    "graph.SetTitle(\"MPV of Energy Deposited in Argon vs Incident Energy of Muon\")\n",
    "graph.GetXaxis().SetTitle(\"log ( Energy (GeV) )\")\n",
    "graph.GetYaxis().SetTitle(\"MPV (MeV)\")\n",
    "canvas.SetLogx()\n",
    "canvas.SetGrid()\n",
    "canvas.Draw()\n",
    "\n",
    "\n",
    "\n",
    "'''\n",
    "Saving the file as a root file\n",
    "'''\n",
    "cal_res = ROOT.TFile(\"calibration_results.root\",\"RECREATE\")\n",
    "graph.Write()\n",
    "cal_res.Close()"
   ]
  },
  {
   "cell_type": "markdown",
   "metadata": {},
   "source": [
    "## Saving the data as a ROOT file\n",
    "\n"
   ]
  },
  {
   "cell_type": "code",
   "execution_count": null,
   "metadata": {},
   "outputs": [],
   "source": []
  }
 ],
 "metadata": {
  "kernelspec": {
   "display_name": "Python 3",
   "language": "python",
   "name": "python3"
  },
  "language_info": {
   "codemirror_mode": {
    "name": "ipython",
    "version": 3
   },
   "file_extension": ".py",
   "mimetype": "text/x-python",
   "name": "python",
   "nbconvert_exporter": "python",
   "pygments_lexer": "ipython3",
   "version": "3.10.12"
  }
 },
 "nbformat": 4,
 "nbformat_minor": 2
}
