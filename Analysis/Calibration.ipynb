{
 "cells": [
  {
   "cell_type": "markdown",
   "metadata": {},
   "source": [
    "# **Calibration of the Energy Deposit vs Incident Energy**"
   ]
  },
  {
   "cell_type": "code",
   "execution_count": 125,
   "metadata": {},
   "outputs": [],
   "source": [
    "import ROOT\n",
    "import numpy as np\n",
    "import matplotlib.pyplot as plt"
   ]
  },
  {
   "cell_type": "markdown",
   "metadata": {},
   "source": [
    "## Reading the files and the scoring tree"
   ]
  },
  {
   "cell_type": "code",
   "execution_count": 126,
   "metadata": {},
   "outputs": [],
   "source": [
    "energy_list = [0.1,0.2,0.3,0.4,0.5,0.6,0.7,0.8,0.9,1,2,5,10,20,40,50,60,70,80,100]\n",
    "\n",
    "\n",
    "file_list=[]\n",
    "for i in energy_list:\n",
    "    file_list.append(ROOT.TFile(f\"..//Outputs//Calibration//{i}GeV.root\",\"READ\"))  \n",
    "    \n",
    "    \n",
    "tree_list=[]\n",
    "\n",
    "for i in range(len(energy_list)):\n",
    "    tree_list.append(file_list[i].Get(\"Scoring\"))\n",
    "    "
   ]
  },
  {
   "cell_type": "markdown",
   "metadata": {},
   "source": [
    "## Creating the histograms and fitting the data with landau"
   ]
  },
  {
   "cell_type": "code",
   "execution_count": 127,
   "metadata": {},
   "outputs": [],
   "source": [
    "hist_list=[]\n",
    "mpv_list=[]\n",
    "mpv_error_list=[]\n",
    "\n",
    "\n",
    "for i in range(len(energy_list)):\n",
    "    curr_hist = ROOT.TH1F(f\"EnergyDeposit_{energy_list[i]}GeV\",f\"Incident Energy = {energy_list[i]}GeV\",200,0,30)\n",
    "    \n",
    "    for events in tree_list[i]:\n",
    "        float; edep = events.fEdep\n",
    "        curr_hist.Fill(edep)   \n",
    "    curr_hist.Fit(\"landau\",\"Q0\")\n",
    "    mpv = curr_hist.GetFunction(\"landau\").GetParameter(1)\n",
    "    mpv_list.append(mpv)\n",
    "    mpv_error = curr_hist.GetFunction(\"landau\").GetParError(1)\n",
    "    mpv_error_list.append(mpv_error)\n",
    "    hist_list.append(curr_hist)"
   ]
  },
  {
   "cell_type": "markdown",
   "metadata": {},
   "source": [
    "## Plotting the calibration curve"
   ]
  },
  {
   "cell_type": "code",
   "execution_count": 128,
   "metadata": {},
   "outputs": [
    {
     "data": {
      "image/png": "[encoded data removed]",
      "text/plain": [
       "<IPython.core.display.Image object>"
      ]
     },
     "metadata": {},
     "output_type": "display_data"
    }
   ],
   "source": [
    "canvas = True\n",
    "canvas = ROOT.TCanvas(\"canvas\",\"canvas\",900,550)\n",
    "graph = ROOT.TGraphErrors(len(energy_list),np.array(energy_list),np.array(mpv_list),np.zeros(len(energy_list)),np.array(mpv_error_list))\n",
    "graph.SetTitle(\"MPV of Energy Deposited in Argon vs Incident Energy of Muon\")\n",
    "graph.GetXaxis().SetTitle(\"log ( Energy (GeV) )\")\n",
    "graph.GetYaxis().SetTitle(\"MPV (MeV)\")\n",
    "graph.Draw(\"ALP\")\n",
    "canvas.SetLogx()\n",
    "canvas.Draw()"
   ]
  },
  {
   "cell_type": "markdown",
   "metadata": {},
   "source": [
    "## Saving the data as a ROOT file\n",
    "\n"
   ]
  },
  {
   "cell_type": "code",
   "execution_count": 129,
   "metadata": {},
   "outputs": [],
   "source": [
    "cal_res = ROOT.TFile(\"calibration_results.root\",\"RECREATE\")\n",
    "graph.Write()\n",
    "cal_res.Close()"
   ]
  }
 ],
 "metadata": {
  "kernelspec": {
   "display_name": "Python 3",
   "language": "python",
   "name": "python3"
  },
  "language_info": {
   "codemirror_mode": {
    "name": "ipython",
    "version": 3
   },
   "file_extension": ".py",
   "mimetype": "text/x-python",
   "name": "python",
   "nbconvert_exporter": "python",
   "pygments_lexer": "ipython3",
   "version": "3.10.12"
  }
 },
 "nbformat": 4,
 "nbformat_minor": 2
}
